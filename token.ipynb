{
 "cells": [
  {
   "cell_type": "code",
   "execution_count": null,
   "metadata": {},
   "outputs": [],
   "source": [
    "[ord(x) for x in \"hello ⑥\"]"
   ]
  },
  {
   "cell_type": "code",
   "execution_count": 3,
   "metadata": {},
   "outputs": [
    {
     "name": "stdout",
     "output_type": "stream",
     "text": [
      "b'\\xf0\\x9f\\x98\\x80\\xef\\xbc\\x81Unicode shfjvjavja  \\xe9\\x98\\xbf\\xe5\\x87\\xa1\\xe8\\xbe\\xbe\\xe5\\x99\\xb6\\xe7\\x9c\\x8b\\xe8\\xbf\\x87v\\xe5\\x8d\\xa1\\xe6\\x80\\xaav\\xe7\\x9c\\x8b ahghfakhvl ehfjagukjfgjagfjkgfkjgrujkfawwagf'\n",
      "length: 101\n",
      "---\n",
      "😀！Unicode shfjvjavja  阿凡达噶看过v卡怪v看 ahghfakhvl ehfjagukjfgjagfjkgfkjgrujkfawwagf\n",
      "length: 78\n",
      "---\n",
      "[240, 159, 152, 128, 239, 188, 129, 85, 110, 105, 99, 111, 100, 101, 32, 115, 104, 102, 106, 118, 106, 97, 118, 106, 97, 32, 32, 233, 152, 191, 229, 135, 161, 232, 190, 190, 229, 153, 182, 231, 156, 139, 232, 191, 135, 118, 229, 141, 161, 230, 128, 170, 118, 231, 156, 139, 32, 97, 104, 103, 104, 102, 97, 107, 104, 118, 108, 32, 101, 104, 102, 106, 97, 103, 117, 107, 106, 102, 103, 106, 97, 103, 102, 106, 107, 103, 102, 107, 106, 103, 114, 117, 106, 107, 102, 97, 119, 119, 97, 103, 102]\n",
      "length: 101\n"
     ]
    }
   ],
   "source": [
    "text=\"😀！Unicode shfjvjavja  阿凡达噶看过v卡怪v看 ahghfakhvl ehfjagukjfgjagfjkgfkjgrujkfawwagf\"\n",
    "tokens=text.encode(\"utf-8\")\n",
    "print(tokens)\n",
    "print(\"length:\",len(tokens))\n",
    "tokens=list(map(int,tokens))\n",
    "print('---')\n",
    "print(text)\n",
    "print(\"length:\",len(text))\n",
    "print('---')\n",
    "print(tokens)\n",
    "print(\"length:\",len(tokens))"
   ]
  },
  {
   "cell_type": "code",
   "execution_count": null,
   "metadata": {},
   "outputs": [],
   "source": [
    "def get_stats(ids):\n",
    "    counts={}\n",
    "    for pair in zip(ids,ids[1:]):\n",
    "        counts[pair]=counts.get(pair,0)+1\n",
    "    return counts\n",
    "\n",
    "stats=get_stats(tokens)\n",
    "print(sorted(((v,k) for k,v in stats.items()),reverse=True))\n",
    "print(stats)"
   ]
  },
  {
   "cell_type": "code",
   "execution_count": null,
   "metadata": {},
   "outputs": [],
   "source": [
    "top_pair=max(stats,key=stats.get)\n",
    "top_pair"
   ]
  },
  {
   "cell_type": "code",
   "execution_count": null,
   "metadata": {},
   "outputs": [],
   "source": [
    "def merge(ids,pair,idx):\n",
    "    newids = []\n",
    "    i=0\n",
    "    while i <len(ids):\n",
    "        if i < len(ids)-1 and ids[i] == pair[0] and ids[i+1]==pair[1]:\n",
    "            newids.append(idx)\n",
    "            i += 2\n",
    "        else:\n",
    "            newids.append(ids[i])\n",
    "            i += 1\n",
    "    return newids\n",
    "print(merge([5,6,6,7,9,1],(6,7),99))\n",
    "tokens2=merge(tokens,top_pair,256)\n",
    "print(tokens2)\n",
    "print(\"length:\",len(tokens2))\n"
   ]
  },
  {
   "cell_type": "code",
   "execution_count": null,
   "metadata": {},
   "outputs": [],
   "source": [
    "vocab_size=276\n",
    "num_merges=vocab_size-256\n",
    "ids=list(tokens)\n",
    "merges={}\n",
    "for i in range(num_merges):\n",
    "    stats=get_stats(ids)\n",
    "    pair=max(stats,key=stats.get)\n",
    "    idx=256+i\n",
    "    print(f\"merging {pair} into  a new token {idx}\")\n",
    "    ids=merge(ids,pair,idx)\n",
    "    merges[pair]=idx\n",
    "print(\"length:\",len(ids))\n",
    "print(f\"compression ratio:{len(tokens)/len(ids):.2f}X\")"
   ]
  },
  {
   "cell_type": "code",
   "execution_count": null,
   "metadata": {},
   "outputs": [],
   "source": [
    "vocab={idx:bytes([idx]) for idx in range(256)}\n",
    "for (p0,p1),idx in merges.items():\n",
    "    vocab[idx]=vocab[p0]+vocab[p1]  #连接\n",
    "\n",
    "def decode(ids):\n",
    "    tokens=b\"\".join(vocab[idx] for idx in ids)\n",
    "    text=tokens.decode(\"utf-8\",errors=\"replace\")\n",
    "    return text\n",
    "\n",
    "print(decode([128]))"
   ]
  },
  {
   "cell_type": "code",
   "execution_count": null,
   "metadata": {},
   "outputs": [],
   "source": [
    "def encode(text):\n",
    "    tokens=list(text.encode(\"utf-8\"))\n",
    "    while len(tokens)>=2:\n",
    "        stats=get_stats(tokens)\n",
    "        pair=min(stats,key=lambda p:merges.get(p,float(\"inf\")))  \n",
    "        #从 tokens取具有最小值的连续对\n",
    "        if pair not in merges:\n",
    "            break\n",
    "        idx=merges[pair]\n",
    "        tokens=merge(tokens,pair,idx)\n",
    "    return tokens\n",
    "\n",
    "print(encode(\"hello world!dahfjdasvkjva;;\"))        "
   ]
  },
  {
   "cell_type": "code",
   "execution_count": null,
   "metadata": {},
   "outputs": [],
   "source": [
    "print(decode(encode(\"hello world!dahfjdasvkjva;;\")))"
   ]
  },
  {
   "cell_type": "code",
   "execution_count": null,
   "metadata": {},
   "outputs": [],
   "source": [
    "text2=decode(encode(text))\n",
    "print(text2==text)"
   ]
  },
  {
   "cell_type": "code",
   "execution_count": null,
   "metadata": {},
   "outputs": [],
   "source": [
    "import regex as re"
   ]
  },
  {
   "cell_type": "code",
   "execution_count": null,
   "metadata": {},
   "outputs": [],
   "source": [
    "gpt2pat = re.compile(\n",
    "    r\"\"\"'s|'t|'re|'ve|'m|'ll|'d| ?\\p{L}+| ?\\p{N}+| ?[^\\s\\p{L}\\p{N}]+|\\s+(?!\\S)|\\s+\"\"\"\n",
    ")\n",
    "print(re.findall(gpt2pat,\"Hello world 123 how are you 'sdajhc\"))  #merge是（ 单词）间的合并"
   ]
  },
  {
   "cell_type": "code",
   "execution_count": null,
   "metadata": {},
   "outputs": [],
   "source": [
    "import tiktoken\n",
    "enc=tiktoken.get_encoding(\"cl100k_base\")\n",
    "print(enc.decode(enc.encode(\"fbjsrf jsjej\"))==\"fbjsrf jsjej\")"
   ]
  }
 ],
 "metadata": {
  "kernelspec": {
   "display_name": "myenv",
   "language": "python",
   "name": "python3"
  },
  "language_info": {
   "codemirror_mode": {
    "name": "ipython",
    "version": 3
   },
   "file_extension": ".py",
   "mimetype": "text/x-python",
   "name": "python",
   "nbconvert_exporter": "python",
   "pygments_lexer": "ipython3",
   "version": "3.12.3"
  }
 },
 "nbformat": 4,
 "nbformat_minor": 2
}
